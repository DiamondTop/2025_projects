{
  "nbformat": 4,
  "nbformat_minor": 0,
  "metadata": {
    "colab": {
      "provenance": [],
      "authorship_tag": "ABX9TyO0LiicOehNDvhSTrh730Sh",
      "include_colab_link": true
    },
    "kernelspec": {
      "name": "python3",
      "display_name": "Python 3"
    },
    "language_info": {
      "name": "python"
    }
  },
  "cells": [
    {
      "cell_type": "markdown",
      "metadata": {
        "id": "view-in-github",
        "colab_type": "text"
      },
      "source": [
        "<a href=\"https://colab.research.google.com/github/DiamondTop/2025_projects/blob/main/HOE2.ipynb\" target=\"_parent\"><img src=\"https://colab.research.google.com/assets/colab-badge.svg\" alt=\"Open In Colab\"/></a>"
      ]
    },
    {
      "cell_type": "markdown",
      "source": [
        "#Example 2.1"
      ],
      "metadata": {
        "id": "Ikqevs5fg1DY"
      }
    },
    {
      "cell_type": "code",
      "source": [
        "list1 = [1,2,3,4]\n",
        "list1\n"
      ],
      "metadata": {
        "colab": {
          "base_uri": "https://localhost:8080/"
        },
        "id": "Gs2frj3Hg2xA",
        "outputId": "48b69159-ec2f-456f-cad4-cfba299a9a4d"
      },
      "execution_count": 17,
      "outputs": [
        {
          "output_type": "execute_result",
          "data": {
            "text/plain": [
              "[1, 2, 3, 4]"
            ]
          },
          "metadata": {},
          "execution_count": 17
        }
      ]
    },
    {
      "cell_type": "code",
      "source": [
        "list1 = [i for i in range(1,6)]\n",
        "list1\n"
      ],
      "metadata": {
        "colab": {
          "base_uri": "https://localhost:8080/"
        },
        "id": "JRcbGUa8jhWf",
        "outputId": "aaad390e-2ec5-4c8e-a3dc-5671200993c7"
      },
      "execution_count": 18,
      "outputs": [
        {
          "output_type": "execute_result",
          "data": {
            "text/plain": [
              "[1, 2, 3, 4, 5]"
            ]
          },
          "metadata": {},
          "execution_count": 18
        }
      ]
    },
    {
      "cell_type": "code",
      "source": [
        "list2 = [4]*5\n",
        "list2"
      ],
      "metadata": {
        "colab": {
          "base_uri": "https://localhost:8080/"
        },
        "id": "yOAaDdo3k57V",
        "outputId": "49ab481a-86ae-4bf0-c38a-6664b1b9cb18"
      },
      "execution_count": 19,
      "outputs": [
        {
          "output_type": "execute_result",
          "data": {
            "text/plain": [
              "[4, 4, 4, 4, 4]"
            ]
          },
          "metadata": {},
          "execution_count": 19
        }
      ]
    },
    {
      "cell_type": "code",
      "source": [
        "list2[:2] = list1[3:]\n",
        "list2"
      ],
      "metadata": {
        "colab": {
          "base_uri": "https://localhost:8080/"
        },
        "id": "8J3ISLVXuZ75",
        "outputId": "95c188e3-bbbc-49a9-a4d7-3192e11c302d"
      },
      "execution_count": 20,
      "outputs": [
        {
          "output_type": "execute_result",
          "data": {
            "text/plain": [
              "[4, 5, 4, 4, 4]"
            ]
          },
          "metadata": {},
          "execution_count": 20
        }
      ]
    },
    {
      "cell_type": "code",
      "source": [
        "list2.pop(-1)\n",
        "list2"
      ],
      "metadata": {
        "colab": {
          "base_uri": "https://localhost:8080/"
        },
        "id": "6tuAZB3gmWQD",
        "outputId": "4223d850-c6bc-4efb-fbad-1bfc8cdb633e"
      },
      "execution_count": 21,
      "outputs": [
        {
          "output_type": "execute_result",
          "data": {
            "text/plain": [
              "[4, 5, 4, 4]"
            ]
          },
          "metadata": {},
          "execution_count": 21
        }
      ]
    },
    {
      "cell_type": "markdown",
      "source": [
        "#Example 2.2"
      ],
      "metadata": {
        "id": "rhEVYwfAGCOm"
      }
    },
    {
      "cell_type": "code",
      "source": [
        "list2.remove(4)"
      ],
      "metadata": {
        "id": "lBH2vY6XF7Vf"
      },
      "execution_count": 22,
      "outputs": []
    },
    {
      "cell_type": "code",
      "source": [
        "list2"
      ],
      "metadata": {
        "colab": {
          "base_uri": "https://localhost:8080/"
        },
        "id": "_P3afmDhVpHp",
        "outputId": "b841b30a-28be-4e84-e0ce-74625ef29993"
      },
      "execution_count": 23,
      "outputs": [
        {
          "output_type": "execute_result",
          "data": {
            "text/plain": [
              "[5, 4, 4]"
            ]
          },
          "metadata": {},
          "execution_count": 23
        }
      ]
    },
    {
      "cell_type": "code",
      "source": [
        "while 4 in list2:\n",
        "  list2.remove(4)\n",
        "list2"
      ],
      "metadata": {
        "colab": {
          "base_uri": "https://localhost:8080/"
        },
        "id": "Wzm3yRLTVyQI",
        "outputId": "2c19f2db-173d-486f-93c7-c8699fe80aeb"
      },
      "execution_count": 24,
      "outputs": [
        {
          "output_type": "execute_result",
          "data": {
            "text/plain": [
              "[5]"
            ]
          },
          "metadata": {},
          "execution_count": 24
        }
      ]
    },
    {
      "cell_type": "code",
      "source": [
        "list2 = [i+4 for i in list1]\n",
        "list2"
      ],
      "metadata": {
        "colab": {
          "base_uri": "https://localhost:8080/"
        },
        "id": "jb23stGVV11h",
        "outputId": "099507cd-f25e-4c19-e893-050c36f7bc54"
      },
      "execution_count": 25,
      "outputs": [
        {
          "output_type": "execute_result",
          "data": {
            "text/plain": [
              "[5, 6, 7, 8, 9]"
            ]
          },
          "metadata": {},
          "execution_count": 25
        }
      ]
    },
    {
      "cell_type": "code",
      "source": [
        "list3 = list1 + list2\n",
        "list3"
      ],
      "metadata": {
        "colab": {
          "base_uri": "https://localhost:8080/"
        },
        "id": "AajSN3PzjeSF",
        "outputId": "e0d5ebfc-b775-4231-9890-953cbc546e28"
      },
      "execution_count": 26,
      "outputs": [
        {
          "output_type": "execute_result",
          "data": {
            "text/plain": [
              "[1, 2, 3, 4, 5, 5, 6, 7, 8, 9]"
            ]
          },
          "metadata": {},
          "execution_count": 26
        }
      ]
    },
    {
      "cell_type": "code",
      "source": [
        "list3.insert(0,0)\n",
        "list3"
      ],
      "metadata": {
        "colab": {
          "base_uri": "https://localhost:8080/"
        },
        "id": "Ddye_rMQkP1W",
        "outputId": "bfec0889-a3cd-42a7-e897-996be98da89c"
      },
      "execution_count": 27,
      "outputs": [
        {
          "output_type": "execute_result",
          "data": {
            "text/plain": [
              "[0, 1, 2, 3, 4, 5, 5, 6, 7, 8, 9]"
            ]
          },
          "metadata": {},
          "execution_count": 27
        }
      ]
    },
    {
      "cell_type": "code",
      "source": [
        "list3.remove(5)\n",
        "list3"
      ],
      "metadata": {
        "colab": {
          "base_uri": "https://localhost:8080/"
        },
        "id": "FXfVAACykTe0",
        "outputId": "4ca76e26-4dcc-4d1d-8113-53e0055bc76d"
      },
      "execution_count": 29,
      "outputs": [
        {
          "output_type": "execute_result",
          "data": {
            "text/plain": [
              "[0, 1, 2, 3, 4, 5, 6, 7, 8, 9]"
            ]
          },
          "metadata": {},
          "execution_count": 29
        }
      ]
    },
    {
      "cell_type": "markdown",
      "source": [
        "#Example 2.3"
      ],
      "metadata": {
        "id": "XImrJ5gAdTjT"
      }
    },
    {
      "cell_type": "code",
      "source": [
        "fruits = ['apple', 'banana', 'orange', 'grape', 'mango', 'pineapple']"
      ],
      "metadata": {
        "id": "Imt_qOw3dS-o"
      },
      "execution_count": 3,
      "outputs": []
    },
    {
      "cell_type": "code",
      "source": [
        "fruits.sort(reverse=True)\n",
        "fruits"
      ],
      "metadata": {
        "colab": {
          "base_uri": "https://localhost:8080/"
        },
        "id": "iNY6qsCMd1or",
        "outputId": "54e7d3b2-206b-4246-8085-4026fe8ae70e"
      },
      "execution_count": 6,
      "outputs": [
        {
          "output_type": "execute_result",
          "data": {
            "text/plain": [
              "['pineapple', 'orange', 'mango', 'grape', 'banana', 'apple']"
            ]
          },
          "metadata": {},
          "execution_count": 6
        }
      ]
    },
    {
      "cell_type": "code",
      "source": [
        "def length_of_fruit_world(list_element):\n",
        "  return len(list_element)"
      ],
      "metadata": {
        "id": "7rzNJuaZihIe"
      },
      "execution_count": 7,
      "outputs": []
    },
    {
      "cell_type": "code",
      "source": [
        "fruits.sort(key=length_of_fruit_world)\n",
        "fruits"
      ],
      "metadata": {
        "colab": {
          "base_uri": "https://localhost:8080/"
        },
        "id": "P1Gb6BJ1iqa4",
        "outputId": "a1d63af0-326f-437e-96ac-c14c2c54941f"
      },
      "execution_count": 9,
      "outputs": [
        {
          "output_type": "execute_result",
          "data": {
            "text/plain": [
              "['mango', 'grape', 'apple', 'orange', 'banana', 'pineapple']"
            ]
          },
          "metadata": {},
          "execution_count": 9
        }
      ]
    },
    {
      "cell_type": "code",
      "source": [
        "fruits.sort(key=length_of_fruit_world, reverse=True)\n",
        "fruits"
      ],
      "metadata": {
        "colab": {
          "base_uri": "https://localhost:8080/"
        },
        "id": "CnsEQacvj8kC",
        "outputId": "8ffa92a2-9170-4b00-db43-9c2025276627"
      },
      "execution_count": 10,
      "outputs": [
        {
          "output_type": "execute_result",
          "data": {
            "text/plain": [
              "['pineapple', 'orange', 'banana', 'mango', 'grape', 'apple']"
            ]
          },
          "metadata": {},
          "execution_count": 10
        }
      ]
    },
    {
      "cell_type": "code",
      "source": [
        "def length_of_fruits_word(list_element):\n",
        "  return len(list_element)"
      ],
      "metadata": {
        "id": "iCECvvvIh9W3"
      },
      "execution_count": 13,
      "outputs": []
    },
    {
      "cell_type": "code",
      "source": [
        "fruits.sort(key=length_of_fruits_word, reverse=True)\n",
        "fruits"
      ],
      "metadata": {
        "colab": {
          "base_uri": "https://localhost:8080/"
        },
        "id": "BIWB59HAibht",
        "outputId": "335cd222-ff13-474f-8555-f8376939fe16"
      },
      "execution_count": 15,
      "outputs": [
        {
          "output_type": "execute_result",
          "data": {
            "text/plain": [
              "['pineapple', 'orange', 'banana', 'mango', 'grape', 'apple']"
            ]
          },
          "metadata": {},
          "execution_count": 15
        }
      ]
    },
    {
      "cell_type": "markdown",
      "source": [
        "#Example 2.4"
      ],
      "metadata": {
        "id": "xd9iFNz8kDjB"
      }
    },
    {
      "cell_type": "code",
      "source": [
        "fruits = ['apple', 'banana', 'orange', 'grape', 'mango', 'pineapple']"
      ],
      "metadata": {
        "id": "CdmTfljBkF2g"
      },
      "execution_count": null,
      "outputs": []
    },
    {
      "cell_type": "code",
      "source": [
        "fruits.sort(key=lambda element: len(element), reverse =True)\n",
        "fruits"
      ],
      "metadata": {
        "colab": {
          "base_uri": "https://localhost:8080/"
        },
        "id": "fsDV7hTGmWQS",
        "outputId": "175af3e8-b303-401c-da76-fc4ab1991958"
      },
      "execution_count": 33,
      "outputs": [
        {
          "output_type": "execute_result",
          "data": {
            "text/plain": [
              "['pineapple', 'orange', 'banana', 'mango', 'grape', 'apple']"
            ]
          },
          "metadata": {},
          "execution_count": 33
        }
      ]
    },
    {
      "cell_type": "markdown",
      "source": [
        "#Example 2.5"
      ],
      "metadata": {
        "id": "IGvuBvFlkF0J"
      }
    },
    {
      "cell_type": "code",
      "source": [
        "fruits_tuple = ['apple', 'banana', 'apple', 'cherry']\n",
        "fruits_tuple"
      ],
      "metadata": {
        "colab": {
          "base_uri": "https://localhost:8080/"
        },
        "id": "X-DhD8SNkE50",
        "outputId": "3ce8db1f-36a0-44d7-a82c-26f4d7526e32"
      },
      "execution_count": 17,
      "outputs": [
        {
          "output_type": "execute_result",
          "data": {
            "text/plain": [
              "['apple', 'banana', 'apple', 'cherry']"
            ]
          },
          "metadata": {},
          "execution_count": 17
        }
      ]
    },
    {
      "cell_type": "code",
      "source": [
        "#convert tuple to list\n",
        "fruits_list = list(fruits_tuple)\n",
        "fruits_list.append('orange')\n"
      ],
      "metadata": {
        "id": "9Iv0YuWLrWw2"
      },
      "execution_count": 18,
      "outputs": []
    },
    {
      "cell_type": "code",
      "source": [
        "#convert tuple to list\n",
        "fruits_tuple = tuple(fruits_list)\n",
        "fruits_tuple"
      ],
      "metadata": {
        "colab": {
          "base_uri": "https://localhost:8080/"
        },
        "id": "8l0DShpwrnnQ",
        "outputId": "3ec33f2c-664c-4d25-9aa1-6506ba371330"
      },
      "execution_count": 19,
      "outputs": [
        {
          "output_type": "execute_result",
          "data": {
            "text/plain": [
              "('apple', 'banana', 'apple', 'cherry', 'orange')"
            ]
          },
          "metadata": {},
          "execution_count": 19
        }
      ]
    },
    {
      "cell_type": "code",
      "source": [
        "#removing apple replace with pear\n",
        "fruits_list = list(fruits_tuple)\n",
        "fruits_list[2] = 'pear'\n",
        "fruits_tuple = tuple(fruits_list)\n",
        "fruits_tuple"
      ],
      "metadata": {
        "colab": {
          "base_uri": "https://localhost:8080/"
        },
        "id": "0gHmH0Avr5L2",
        "outputId": "3fffb584-205e-42c5-8cd8-4d31d5f8aa9a"
      },
      "execution_count": 20,
      "outputs": [
        {
          "output_type": "execute_result",
          "data": {
            "text/plain": [
              "('apple', 'banana', 'pear', 'cherry', 'orange')"
            ]
          },
          "metadata": {},
          "execution_count": 20
        }
      ]
    },
    {
      "cell_type": "markdown",
      "source": [
        "#Examples 2.6"
      ],
      "metadata": {
        "id": "lSGVW6XMtDjG"
      }
    },
    {
      "cell_type": "code",
      "source": [
        "fruits = ['apple', 'banana', 'apple', 'cherry']\n",
        "fruits"
      ],
      "metadata": {
        "colab": {
          "base_uri": "https://localhost:8080/"
        },
        "id": "XdLs2zHUtFUn",
        "outputId": "8fa2dbf0-e740-4400-8df1-b47f0a8030eb"
      },
      "execution_count": 6,
      "outputs": [
        {
          "output_type": "execute_result",
          "data": {
            "text/plain": [
              "['apple', 'banana', 'apple', 'cherry']"
            ]
          },
          "metadata": {},
          "execution_count": 6
        }
      ]
    },
    {
      "cell_type": "code",
      "source": [
        "fruits = set(fruits)\n",
        "fruits"
      ],
      "metadata": {
        "colab": {
          "base_uri": "https://localhost:8080/"
        },
        "id": "6_AY_oczvzK9",
        "outputId": "ec32d7bd-b925-4e9c-a851-177b4e2af858"
      },
      "execution_count": 7,
      "outputs": [
        {
          "output_type": "execute_result",
          "data": {
            "text/plain": [
              "{'apple', 'banana', 'cherry'}"
            ]
          },
          "metadata": {},
          "execution_count": 7
        }
      ]
    },
    {
      "cell_type": "code",
      "source": [
        "#adding orange to the set\n",
        "fruits.add(\"orange\")\n",
        "fruits"
      ],
      "metadata": {
        "colab": {
          "base_uri": "https://localhost:8080/"
        },
        "id": "_NVFMrMRJ07Y",
        "outputId": "b90b0e69-a95e-4429-866c-c8c52f922ff3"
      },
      "execution_count": 8,
      "outputs": [
        {
          "output_type": "execute_result",
          "data": {
            "text/plain": [
              "{'apple', 'banana', 'cherry', 'orange'}"
            ]
          },
          "metadata": {},
          "execution_count": 8
        }
      ]
    },
    {
      "cell_type": "code",
      "source": [
        "fruits2 = {'apple', 'banana', 'pear', 'mongo'}\n",
        "fruits2"
      ],
      "metadata": {
        "colab": {
          "base_uri": "https://localhost:8080/"
        },
        "id": "cjMjt3W6J3T9",
        "outputId": "04f644fe-ab0d-4f82-9f98-dc43468c1a0a"
      },
      "execution_count": 20,
      "outputs": [
        {
          "output_type": "execute_result",
          "data": {
            "text/plain": [
              "{'apple', 'banana', 'mongo', 'pear'}"
            ]
          },
          "metadata": {},
          "execution_count": 20
        }
      ]
    },
    {
      "cell_type": "code",
      "source": [
        "# gather the union, intersect, difference between 2 sets.\n",
        "fruits2 = set(fruits2)\n",
        "print(fruits.union(fruits2))\n",
        "print(fruits.intersection(fruits2))\n",
        "print(fruits.difference(fruits2))\n"
      ],
      "metadata": {
        "colab": {
          "base_uri": "https://localhost:8080/"
        },
        "id": "dEvXLdVaSsHb",
        "outputId": "08df4016-0b36-42a9-d8e3-527ca8af56d6"
      },
      "execution_count": 14,
      "outputs": [
        {
          "output_type": "stream",
          "name": "stdout",
          "text": [
            "{'mongo', 'banana', 'apple', 'cherry', 'orange', 'pear'}\n",
            "{'apple', 'banana'}\n",
            "{'orange', 'cherry'}\n"
          ]
        }
      ]
    },
    {
      "cell_type": "markdown",
      "source": [
        "#Example 2.7"
      ],
      "metadata": {
        "id": "dphTPK_7a4d2"
      }
    },
    {
      "cell_type": "code",
      "source": [
        "fruits = {'apple', 'banana', 'pear', 'mongo'}\n",
        "fruits_string = ', '.join(fruits)\n",
        "fruits_string"
      ],
      "metadata": {
        "colab": {
          "base_uri": "https://localhost:8080/",
          "height": 36
        },
        "id": "ZihZ0F1_a3eE",
        "outputId": "6441ac5f-6d90-4db6-ce64-20002902e57a"
      },
      "execution_count": 19,
      "outputs": [
        {
          "output_type": "execute_result",
          "data": {
            "text/plain": [
              "'apple, banana, pear, mongo'"
            ],
            "application/vnd.google.colaboratory.intrinsic+json": {
              "type": "string"
            }
          },
          "metadata": {},
          "execution_count": 19
        }
      ]
    },
    {
      "cell_type": "code",
      "source": [
        "print(f'There are {fruits_string} for sale in the farmer market.')"
      ],
      "metadata": {
        "colab": {
          "base_uri": "https://localhost:8080/"
        },
        "id": "H1-VhDfOrYiX",
        "outputId": "9fc3d8a2-faf1-494d-dd14-539c06a3a25d"
      },
      "execution_count": 22,
      "outputs": [
        {
          "output_type": "stream",
          "name": "stdout",
          "text": [
            "There are apple, banana, pear, mongo for sale in the farmer market.\n"
          ]
        }
      ]
    },
    {
      "cell_type": "markdown",
      "source": [
        "#Examples 2.8"
      ],
      "metadata": {
        "id": "WF2mlmDMjLd2"
      }
    },
    {
      "cell_type": "code",
      "source": [
        "text = \"There are apple, banana, pear, mongo for sale in the farmer market.\"\n"
      ],
      "metadata": {
        "id": "kNRpElPCsWIf"
      },
      "execution_count": 24,
      "outputs": []
    },
    {
      "cell_type": "code",
      "source": [
        "start = len(\"There are \")\n",
        "end = len(\"for sale in the farmer market.\")\n",
        "fruit_txt = text[start:-end]\n",
        "fruit_txt"
      ],
      "metadata": {
        "colab": {
          "base_uri": "https://localhost:8080/",
          "height": 36
        },
        "id": "2tIaRyRO7b7s",
        "outputId": "b7f6bb4f-0fd7-4bab-ca75-661a56a79b41"
      },
      "execution_count": 26,
      "outputs": [
        {
          "output_type": "execute_result",
          "data": {
            "text/plain": [
              "'apple, banana, pear, mongo '"
            ],
            "application/vnd.google.colaboratory.intrinsic+json": {
              "type": "string"
            }
          },
          "metadata": {},
          "execution_count": 26
        }
      ]
    },
    {
      "cell_type": "code",
      "source": [
        "fruit_txt.split(',' )"
      ],
      "metadata": {
        "colab": {
          "base_uri": "https://localhost:8080/"
        },
        "id": "pBjEnQBJ8A4v",
        "outputId": "d1c31999-f430-4456-d678-e7b8be731616"
      },
      "execution_count": 27,
      "outputs": [
        {
          "output_type": "execute_result",
          "data": {
            "text/plain": [
              "['apple', ' banana', ' pear', ' mongo ']"
            ]
          },
          "metadata": {},
          "execution_count": 27
        }
      ]
    },
    {
      "cell_type": "markdown",
      "source": [
        "#Example 2.9"
      ],
      "metadata": {
        "id": "JtgD-b-_Wdjv"
      }
    },
    {
      "cell_type": "code",
      "source": [
        "company_names = [\"Apple Inc.\", \"Microsoft Corporation\", \"Amazon.com Inc.\", \"Alphabet Inc.\", \"Meta Platforms Inc.\"]"
      ],
      "metadata": {
        "id": "s2V3mYUgeXAJ"
      },
      "execution_count": 17,
      "outputs": []
    },
    {
      "cell_type": "code",
      "source": [
        "company_codes = [\"APPL\", \"MSFT\", \"AMZN\", \"GOOGL\", \"META\"]"
      ],
      "metadata": {
        "id": "1jIuKRFRe-Ej"
      },
      "execution_count": 18,
      "outputs": []
    },
    {
      "cell_type": "code",
      "source": [
        "companies = {k:v for k,v in zip(company_codes, company_names)}\n",
        "print(companies)"
      ],
      "metadata": {
        "colab": {
          "base_uri": "https://localhost:8080/"
        },
        "id": "Af8BWgk8fH4P",
        "outputId": "b37df395-9ed0-4705-a28e-be1918f1ce14"
      },
      "execution_count": 19,
      "outputs": [
        {
          "output_type": "stream",
          "name": "stdout",
          "text": [
            "{'APPL': 'Apple Inc.', 'MSFT': 'Microsoft Corporation', 'AMZN': 'Amazon.com Inc.', 'GOOGL': 'Alphabet Inc.', 'META': 'Meta Platforms Inc.'}\n"
          ]
        }
      ]
    },
    {
      "cell_type": "markdown",
      "source": [
        "#Example 2.10"
      ],
      "metadata": {
        "id": "o9S6UdTafmcE"
      }
    },
    {
      "cell_type": "code",
      "source": [
        "companies2 = {v:k for k,v in companies.items()}\n",
        "companies2"
      ],
      "metadata": {
        "colab": {
          "base_uri": "https://localhost:8080/"
        },
        "id": "TE536pS1fo5u",
        "outputId": "441ac74d-ff6a-42cc-ab5b-774bb3b2cbb2"
      },
      "execution_count": 20,
      "outputs": [
        {
          "output_type": "execute_result",
          "data": {
            "text/plain": [
              "{'Apple Inc.': 'APPL',\n",
              " 'Microsoft Corporation': 'MSFT',\n",
              " 'Amazon.com Inc.': 'AMZN',\n",
              " 'Alphabet Inc.': 'GOOGL',\n",
              " 'Meta Platforms Inc.': 'META'}"
            ]
          },
          "metadata": {},
          "execution_count": 20
        }
      ]
    },
    {
      "cell_type": "code",
      "source": [
        "companies2[\"Alphabet Inc.\"]"
      ],
      "metadata": {
        "colab": {
          "base_uri": "https://localhost:8080/",
          "height": 36
        },
        "id": "NZr_ohm8f-G1",
        "outputId": "c821835e-de5a-41f8-dc79-4b2eb9f3f545"
      },
      "execution_count": 21,
      "outputs": [
        {
          "output_type": "execute_result",
          "data": {
            "text/plain": [
              "'GOOGL'"
            ],
            "application/vnd.google.colaboratory.intrinsic+json": {
              "type": "string"
            }
          },
          "metadata": {},
          "execution_count": 21
        }
      ]
    },
    {
      "cell_type": "code",
      "source": [
        "for k,v in companies2.items():\n",
        "  if 'Inc.' in k:\n",
        "    print(v)"
      ],
      "metadata": {
        "colab": {
          "base_uri": "https://localhost:8080/"
        },
        "id": "gZRzkP6Oii-A",
        "outputId": "c56c1630-7f7d-4d2d-b0d7-31cde655faba"
      },
      "execution_count": 22,
      "outputs": [
        {
          "output_type": "stream",
          "name": "stdout",
          "text": [
            "APPL\n",
            "AMZN\n",
            "GOOGL\n",
            "META\n"
          ]
        }
      ]
    }
  ]
}