{
  "nbformat": 4,
  "nbformat_minor": 0,
  "metadata": {
    "colab": {
      "provenance": [],
      "authorship_tag": "ABX9TyPGlPrWNGJyK46SytvktGkM",
      "include_colab_link": true
    },
    "kernelspec": {
      "name": "python3",
      "display_name": "Python 3"
    },
    "language_info": {
      "name": "python"
    }
  },
  "cells": [
    {
      "cell_type": "markdown",
      "metadata": {
        "id": "view-in-github",
        "colab_type": "text"
      },
      "source": [
        "<a href=\"https://colab.research.google.com/github/DiamondTop/2025_projects/blob/main/OEH1.ipynb\" target=\"_parent\"><img src=\"https://colab.research.google.com/assets/colab-badge.svg\" alt=\"Open In Colab\"/></a>"
      ]
    },
    {
      "cell_type": "markdown",
      "source": [
        "# Example 1.2"
      ],
      "metadata": {
        "id": "Pe7Zpb-hSJEq"
      }
    },
    {
      "cell_type": "code",
      "source": [
        "a=23.12\n",
        "b=75.36\n",
        "c=34.49"
      ],
      "metadata": {
        "id": "Z1WvPPoRSfBX"
      },
      "execution_count": 15,
      "outputs": []
    },
    {
      "cell_type": "code",
      "execution_count": 7,
      "metadata": {
        "id": "Uiz8T9ZURCZj"
      },
      "outputs": [],
      "source": [
        "x = lambda a, b, c: 2*(a*b + a*c + b*c)"
      ]
    },
    {
      "cell_type": "code",
      "source": [
        "x(23.12, 75.36, 34.49)"
      ],
      "metadata": {
        "colab": {
          "base_uri": "https://localhost:8080/"
        },
        "id": "acFJbftVSYC2",
        "outputId": "45d7b43e-5d98-43d9-8ee1-63d20a4d676b"
      },
      "execution_count": 8,
      "outputs": [
        {
          "output_type": "execute_result",
          "data": {
            "text/plain": [
              "10277.7968"
            ]
          },
          "metadata": {},
          "execution_count": 8
        }
      ]
    },
    {
      "cell_type": "code",
      "source": [
        "def calculate_volume(a,b,c):\n",
        "  volume = a*b*c\n",
        "  print(f'This volume is {volume:,.2f}')"
      ],
      "metadata": {
        "id": "U38blzHzTSqK"
      },
      "execution_count": 19,
      "outputs": []
    },
    {
      "cell_type": "code",
      "source": [
        "calculate_volume(a,b,c)"
      ],
      "metadata": {
        "colab": {
          "base_uri": "https://localhost:8080/"
        },
        "id": "uHpRKWI2T1CG",
        "outputId": "7bb8d51b-39b6-4d34-8816-23a70c72d254"
      },
      "execution_count": 21,
      "outputs": [
        {
          "output_type": "stream",
          "name": "stdout",
          "text": [
            "This volume is 60,092.73\n"
          ]
        }
      ]
    },
    {
      "cell_type": "markdown",
      "source": [
        "#Example 1.5 - function for calculating area, volume or both"
      ],
      "metadata": {
        "id": "Z8-aVt19p0iS"
      }
    },
    {
      "cell_type": "code",
      "source": [
        "def cuboid_math(a,b,c, algorithm='both'):\n",
        "\n",
        "  if algorithm == 'both':\n",
        "    print(f'The area is {2*(a*b + a*c + b*c):,.2f}')\n",
        "    print(f'The volume is {a*b*c:,.2f}')\n",
        "  elif algorithm == 'area':\n",
        "    print(f'The area is {2*(a*b + a*c + b*c):,.2f}')\n",
        "  elif algorithm == 'volume':\n",
        "    print(f'The volume is {a*b*c:,.2f}')\n",
        "  else:\n",
        "    print('Invalid algorithm')\n"
      ],
      "metadata": {
        "id": "hpG4LliJaHEz"
      },
      "execution_count": 13,
      "outputs": []
    },
    {
      "cell_type": "code",
      "source": [
        "cuboid_math(a,b,c, algorithm='area')"
      ],
      "metadata": {
        "colab": {
          "base_uri": "https://localhost:8080/"
        },
        "id": "ViJrc1x-osPU",
        "outputId": "198e5759-ab3d-47d5-8617-4c83389e68ff"
      },
      "execution_count": 17,
      "outputs": [
        {
          "output_type": "stream",
          "name": "stdout",
          "text": [
            "The area is 10,277.80\n",
            "The volume is 60,092.73\n"
          ]
        }
      ]
    },
    {
      "cell_type": "code",
      "source": [
        "cuboid_math(a,b,c, algorithm='both')"
      ],
      "metadata": {
        "colab": {
          "base_uri": "https://localhost:8080/"
        },
        "id": "56wdpGxBrHSF",
        "outputId": "639fc7f5-55b0-4ebf-fdfa-1fac916b4bfe"
      },
      "execution_count": 18,
      "outputs": [
        {
          "output_type": "stream",
          "name": "stdout",
          "text": [
            "The area is 10,277.80\n",
            "The volume is 60,092.73\n"
          ]
        }
      ]
    },
    {
      "cell_type": "code",
      "source": [
        "cuboid_math(a,b,c, 'i dont know')"
      ],
      "metadata": {
        "colab": {
          "base_uri": "https://localhost:8080/"
        },
        "id": "EwWPrzfcrSgh",
        "outputId": "6e65cba2-d5fc-4788-8a6c-f98494d8abf7"
      },
      "execution_count": 19,
      "outputs": [
        {
          "output_type": "stream",
          "name": "stdout",
          "text": [
            "Invalid algorithm\n"
          ]
        }
      ]
    },
    {
      "cell_type": "code",
      "source": [
        "i= 0\n",
        "while i < 10:\n",
        "\n",
        "    i +=1\n",
        "    if i==5:\n",
        "      break\n",
        "    print (i)"
      ],
      "metadata": {
        "colab": {
          "base_uri": "https://localhost:8080/"
        },
        "id": "WSEq4xQzapbs",
        "outputId": "3d1df81b-d546-49b9-cf61-080e6a535bad"
      },
      "execution_count": 8,
      "outputs": [
        {
          "output_type": "stream",
          "name": "stdout",
          "text": [
            "1\n",
            "2\n",
            "3\n",
            "4\n"
          ]
        }
      ]
    },
    {
      "cell_type": "markdown",
      "source": [
        "#Example 1.7"
      ],
      "metadata": {
        "id": "SRH0l4JF2qNz"
      }
    },
    {
      "cell_type": "code",
      "source": [
        "for i in range(1,11):\n",
        "  if i == 5:\n",
        "    break\n",
        "  print (i)"
      ],
      "metadata": {
        "colab": {
          "base_uri": "https://localhost:8080/"
        },
        "id": "nNF-wdqloJfj",
        "outputId": "dbd47101-ba28-460f-ea96-a64c971f50dc"
      },
      "execution_count": 3,
      "outputs": [
        {
          "output_type": "stream",
          "name": "stdout",
          "text": [
            "1\n",
            "2\n",
            "3\n",
            "4\n"
          ]
        }
      ]
    },
    {
      "cell_type": "code",
      "source": [
        "for i in range(1,11,1):\n",
        "\n",
        "  if i==5:\n",
        "    continue\n",
        "  print (i)"
      ],
      "metadata": {
        "colab": {
          "base_uri": "https://localhost:8080/"
        },
        "id": "hyWXHci0oSp6",
        "outputId": "b6bf2c44-1408-4785-800c-81b64777c66a"
      },
      "execution_count": 6,
      "outputs": [
        {
          "output_type": "stream",
          "name": "stdout",
          "text": [
            "1\n",
            "2\n",
            "3\n",
            "4\n",
            "6\n",
            "7\n",
            "8\n",
            "9\n",
            "10\n"
          ]
        }
      ]
    }
  ]
}